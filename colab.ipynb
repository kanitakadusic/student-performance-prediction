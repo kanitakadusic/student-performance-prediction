{
  "nbformat": 4,
  "nbformat_minor": 0,
  "metadata": {
    "colab": {
      "provenance": [],
      "include_colab_link": true
    },
    "kernelspec": {
      "name": "python3",
      "display_name": "Python 3"
    },
    "language_info": {
      "name": "python"
    }
  },
  "cells": [
    {
      "cell_type": "markdown",
      "metadata": {
        "id": "view-in-github",
        "colab_type": "text"
      },
      "source": [
        "<a href=\"https://colab.research.google.com/github/kanitakadusic/student-performance-prediction/blob/main/colab.ipynb\" target=\"_parent\"><img src=\"https://colab.research.google.com/assets/colab-badge.svg\" alt=\"Open In Colab\"/></a>"
      ]
    },
    {
      "cell_type": "markdown",
      "source": [
        "##Elektrotehnički fakultet Sarajevo\n",
        "\n",
        "###Vjerovatnoća i statistika"
      ],
      "metadata": {
        "id": "rAW7nDZ0UrbZ"
      }
    },
    {
      "cell_type": "markdown",
      "source": [
        "# **Student performance prediction**"
      ],
      "metadata": {
        "id": "zZWQJZPBTVlh"
      }
    },
    {
      "cell_type": "markdown",
      "source": [
        "## Kurtović Esma"
      ],
      "metadata": {
        "id": "Ngk8sZ2fXW3b"
      }
    },
    {
      "cell_type": "markdown",
      "source": [
        "### Tekst"
      ],
      "metadata": {
        "id": "fDdIUQ91XW3b"
      }
    },
    {
      "cell_type": "code",
      "source": [
        "# comment"
      ],
      "metadata": {
        "id": "_z_RoLfEXW3b"
      },
      "execution_count": null,
      "outputs": []
    },
    {
      "cell_type": "markdown",
      "source": [
        "## Kadušić Kanita"
      ],
      "metadata": {
        "id": "zNz9csdYXV_E"
      }
    },
    {
      "cell_type": "markdown",
      "source": [
        "### Tekst"
      ],
      "metadata": {
        "id": "5eu56anBXV_E"
      }
    },
    {
      "cell_type": "code",
      "source": [
        "# comment"
      ],
      "metadata": {
        "id": "B41mQ5y7XV_E"
      },
      "execution_count": null,
      "outputs": []
    },
    {
      "cell_type": "markdown",
      "source": [
        "## Zahiragić Faruk"
      ],
      "metadata": {
        "id": "9SjPwckDXVJN"
      }
    },
    {
      "cell_type": "markdown",
      "source": [
        "### Tekst"
      ],
      "metadata": {
        "id": "Bx-_pV_gXVJO"
      }
    },
    {
      "cell_type": "code",
      "source": [
        "# comment"
      ],
      "metadata": {
        "id": "X_K3qomKXVJO"
      },
      "execution_count": null,
      "outputs": []
    },
    {
      "cell_type": "markdown",
      "source": [
        "## Živojević Edin"
      ],
      "metadata": {
        "id": "2tgjGVB0XNbh"
      }
    },
    {
      "cell_type": "markdown",
      "source": [
        "### Tekst"
      ],
      "metadata": {
        "id": "2qeYef98W3y-"
      }
    },
    {
      "cell_type": "code",
      "source": [
        "# comment"
      ],
      "metadata": {
        "id": "NYiNgbC5XBRv"
      },
      "execution_count": null,
      "outputs": []
    }
  ]
}