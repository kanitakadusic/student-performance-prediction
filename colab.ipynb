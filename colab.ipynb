{
  "nbformat": 4,
  "nbformat_minor": 0,
  "metadata": {
    "colab": {
      "provenance": [],
      "collapsed_sections": [
        "DDW3eKade-62",
        "mCabb1JDfN5Z",
        "adh85Ww8fbTn"
      ]
    },
    "kernelspec": {
      "name": "python3",
      "display_name": "Python 3"
    },
    "language_info": {
      "name": "python"
    }
  },
  "cells": [
    {
      "cell_type": "markdown",
      "source": [
        "##Elektrotehnički fakultet Sarajevo\n",
        "\n",
        "###Vjerovatnoća i statistika"
      ],
      "metadata": {
        "id": "rAW7nDZ0UrbZ"
      }
    },
    {
      "cell_type": "markdown",
      "source": [
        "# **STUDENT PERFORMANCE PREDICTION**"
      ],
      "metadata": {
        "id": "NZPunWbVY011"
      }
    },
    {
      "cell_type": "markdown",
      "source": [
        "# Description and expectations"
      ],
      "metadata": {
        "id": "DDW3eKade-62"
      }
    },
    {
      "cell_type": "markdown",
      "source": [
        "Some text"
      ],
      "metadata": {
        "id": "Y2Gjstikc1GL"
      }
    },
    {
      "cell_type": "markdown",
      "source": [
        "# Elaboration"
      ],
      "metadata": {
        "id": "mCabb1JDfN5Z"
      }
    },
    {
      "cell_type": "markdown",
      "source": [
        "## **PART 1**"
      ],
      "metadata": {
        "id": "C5yyYJERYPti"
      }
    },
    {
      "cell_type": "markdown",
      "source": [
        "Description, expectations and conclusion of PART 1"
      ],
      "metadata": {
        "id": "nW7GSES4ZaVI"
      }
    },
    {
      "cell_type": "markdown",
      "source": [
        "### Part 1.1 (Esma)"
      ],
      "metadata": {
        "id": "Ngk8sZ2fXW3b"
      }
    },
    {
      "cell_type": "markdown",
      "source": [
        "Elaboration of part 1.1"
      ],
      "metadata": {
        "id": "2odVEQxKaQ2X"
      }
    },
    {
      "cell_type": "code",
      "source": [
        "# comment"
      ],
      "metadata": {
        "id": "_z_RoLfEXW3b"
      },
      "execution_count": null,
      "outputs": []
    },
    {
      "cell_type": "markdown",
      "source": [
        "### Part 1.2 (Kanita)"
      ],
      "metadata": {
        "id": "zNz9csdYXV_E"
      }
    },
    {
      "cell_type": "markdown",
      "source": [
        "Elaboration of part 1.2"
      ],
      "metadata": {
        "id": "8eEhaOrnaky0"
      }
    },
    {
      "cell_type": "code",
      "source": [
        "# comment"
      ],
      "metadata": {
        "id": "B41mQ5y7XV_E"
      },
      "execution_count": null,
      "outputs": []
    },
    {
      "cell_type": "markdown",
      "source": [
        "## **PART 2**"
      ],
      "metadata": {
        "id": "afAe0lHSgEnM"
      }
    },
    {
      "cell_type": "markdown",
      "source": [
        "Description, expectations and conclusion of PART 2"
      ],
      "metadata": {
        "id": "0MVNvKYAgEnV"
      }
    },
    {
      "cell_type": "markdown",
      "source": [
        "### Part 2.1 (Faruk)"
      ],
      "metadata": {
        "id": "962-S96cgEnV"
      }
    },
    {
      "cell_type": "markdown",
      "source": [
        "Elaboration of part 2.1"
      ],
      "metadata": {
        "id": "bfeX-J7vgEnV"
      }
    },
    {
      "cell_type": "code",
      "source": [
        "# comment"
      ],
      "metadata": {
        "id": "kHTzimVDgEnV"
      },
      "execution_count": null,
      "outputs": []
    },
    {
      "cell_type": "markdown",
      "source": [
        "### Part 2.2 (Edin)"
      ],
      "metadata": {
        "id": "auH9_u03gEnW"
      }
    },
    {
      "cell_type": "markdown",
      "source": [
        "Elaboration of part 2.2"
      ],
      "metadata": {
        "id": "MxujIJzngEnW"
      }
    },
    {
      "cell_type": "code",
      "source": [
        "# comment"
      ],
      "metadata": {
        "id": "o1blqiJjgEnW"
      },
      "execution_count": null,
      "outputs": []
    },
    {
      "cell_type": "markdown",
      "source": [
        "# Conclusion"
      ],
      "metadata": {
        "id": "adh85Ww8fbTn"
      }
    },
    {
      "cell_type": "markdown",
      "source": [
        "Some text"
      ],
      "metadata": {
        "id": "vF6MH-1Ffk1h"
      }
    }
  ]
}