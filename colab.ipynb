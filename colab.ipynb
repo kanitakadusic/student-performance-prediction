{
  "nbformat": 4,
  "nbformat_minor": 0,
  "metadata": {
    "colab": {
      "provenance": [],
      "collapsed_sections": [
        "DDW3eKade-62",
        "Ngk8sZ2fXW3b",
        "zNz9csdYXV_E",
        "nW7GSES4ZaVI",
        "962-S96cgEnV",
        "adh85Ww8fbTn"
      ]
    },
    "kernelspec": {
      "name": "python3",
      "display_name": "Python 3"
    },
    "language_info": {
      "name": "python"
    }
  },
  "cells": [
    {
      "cell_type": "markdown",
      "source": [
        "##Elektrotehnički fakultet Sarajevo\n",
        "\n",
        "###Vjerovatnoća i statistika"
      ],
      "metadata": {
        "id": "rAW7nDZ0UrbZ"
      }
    },
    {
      "cell_type": "markdown",
      "source": [
        "# **STUDENT PERFORMANCE PREDICTION**"
      ],
      "metadata": {
        "id": "NZPunWbVY011"
      }
    },
    {
      "cell_type": "markdown",
      "source": [
        "# Description and expectations"
      ],
      "metadata": {
        "id": "DDW3eKade-62"
      }
    },
    {
      "cell_type": "markdown",
      "source": [
        "Some text"
      ],
      "metadata": {
        "id": "Y2Gjstikc1GL"
      }
    },
    {
      "cell_type": "code",
      "source": [
        "import io\n",
        "import pandas\n",
        "import matplotlib.pyplot as plot\n",
        "import array as arr\n",
        "import statistics\n",
        "import seaborn"
      ],
      "metadata": {
        "id": "BlDZGq60DVcS"
      },
      "execution_count": null,
      "outputs": []
    },
    {
      "cell_type": "code",
      "source": [
        "from google.colab import files\n",
        "uploaded = files.upload()"
      ],
      "metadata": {
        "colab": {
          "base_uri": "https://localhost:8080/",
          "height": 73
        },
        "id": "Z--Lvh5_DmTe",
        "outputId": "d37a107f-89f5-4125-e59b-f557ec1307e8"
      },
      "execution_count": null,
      "outputs": [
        {
          "output_type": "display_data",
          "data": {
            "text/plain": [
              "<IPython.core.display.HTML object>"
            ],
            "text/html": [
              "\n",
              "     <input type=\"file\" id=\"files-9e64963d-de14-4cde-8fb7-067ca99313bc\" name=\"files[]\" multiple disabled\n",
              "        style=\"border:none\" />\n",
              "     <output id=\"result-9e64963d-de14-4cde-8fb7-067ca99313bc\">\n",
              "      Upload widget is only available when the cell has been executed in the\n",
              "      current browser session. Please rerun this cell to enable.\n",
              "      </output>\n",
              "      <script>// Copyright 2017 Google LLC\n",
              "//\n",
              "// Licensed under the Apache License, Version 2.0 (the \"License\");\n",
              "// you may not use this file except in compliance with the License.\n",
              "// You may obtain a copy of the License at\n",
              "//\n",
              "//      http://www.apache.org/licenses/LICENSE-2.0\n",
              "//\n",
              "// Unless required by applicable law or agreed to in writing, software\n",
              "// distributed under the License is distributed on an \"AS IS\" BASIS,\n",
              "// WITHOUT WARRANTIES OR CONDITIONS OF ANY KIND, either express or implied.\n",
              "// See the License for the specific language governing permissions and\n",
              "// limitations under the License.\n",
              "\n",
              "/**\n",
              " * @fileoverview Helpers for google.colab Python module.\n",
              " */\n",
              "(function(scope) {\n",
              "function span(text, styleAttributes = {}) {\n",
              "  const element = document.createElement('span');\n",
              "  element.textContent = text;\n",
              "  for (const key of Object.keys(styleAttributes)) {\n",
              "    element.style[key] = styleAttributes[key];\n",
              "  }\n",
              "  return element;\n",
              "}\n",
              "\n",
              "// Max number of bytes which will be uploaded at a time.\n",
              "const MAX_PAYLOAD_SIZE = 100 * 1024;\n",
              "\n",
              "function _uploadFiles(inputId, outputId) {\n",
              "  const steps = uploadFilesStep(inputId, outputId);\n",
              "  const outputElement = document.getElementById(outputId);\n",
              "  // Cache steps on the outputElement to make it available for the next call\n",
              "  // to uploadFilesContinue from Python.\n",
              "  outputElement.steps = steps;\n",
              "\n",
              "  return _uploadFilesContinue(outputId);\n",
              "}\n",
              "\n",
              "// This is roughly an async generator (not supported in the browser yet),\n",
              "// where there are multiple asynchronous steps and the Python side is going\n",
              "// to poll for completion of each step.\n",
              "// This uses a Promise to block the python side on completion of each step,\n",
              "// then passes the result of the previous step as the input to the next step.\n",
              "function _uploadFilesContinue(outputId) {\n",
              "  const outputElement = document.getElementById(outputId);\n",
              "  const steps = outputElement.steps;\n",
              "\n",
              "  const next = steps.next(outputElement.lastPromiseValue);\n",
              "  return Promise.resolve(next.value.promise).then((value) => {\n",
              "    // Cache the last promise value to make it available to the next\n",
              "    // step of the generator.\n",
              "    outputElement.lastPromiseValue = value;\n",
              "    return next.value.response;\n",
              "  });\n",
              "}\n",
              "\n",
              "/**\n",
              " * Generator function which is called between each async step of the upload\n",
              " * process.\n",
              " * @param {string} inputId Element ID of the input file picker element.\n",
              " * @param {string} outputId Element ID of the output display.\n",
              " * @return {!Iterable<!Object>} Iterable of next steps.\n",
              " */\n",
              "function* uploadFilesStep(inputId, outputId) {\n",
              "  const inputElement = document.getElementById(inputId);\n",
              "  inputElement.disabled = false;\n",
              "\n",
              "  const outputElement = document.getElementById(outputId);\n",
              "  outputElement.innerHTML = '';\n",
              "\n",
              "  const pickedPromise = new Promise((resolve) => {\n",
              "    inputElement.addEventListener('change', (e) => {\n",
              "      resolve(e.target.files);\n",
              "    });\n",
              "  });\n",
              "\n",
              "  const cancel = document.createElement('button');\n",
              "  inputElement.parentElement.appendChild(cancel);\n",
              "  cancel.textContent = 'Cancel upload';\n",
              "  const cancelPromise = new Promise((resolve) => {\n",
              "    cancel.onclick = () => {\n",
              "      resolve(null);\n",
              "    };\n",
              "  });\n",
              "\n",
              "  // Wait for the user to pick the files.\n",
              "  const files = yield {\n",
              "    promise: Promise.race([pickedPromise, cancelPromise]),\n",
              "    response: {\n",
              "      action: 'starting',\n",
              "    }\n",
              "  };\n",
              "\n",
              "  cancel.remove();\n",
              "\n",
              "  // Disable the input element since further picks are not allowed.\n",
              "  inputElement.disabled = true;\n",
              "\n",
              "  if (!files) {\n",
              "    return {\n",
              "      response: {\n",
              "        action: 'complete',\n",
              "      }\n",
              "    };\n",
              "  }\n",
              "\n",
              "  for (const file of files) {\n",
              "    const li = document.createElement('li');\n",
              "    li.append(span(file.name, {fontWeight: 'bold'}));\n",
              "    li.append(span(\n",
              "        `(${file.type || 'n/a'}) - ${file.size} bytes, ` +\n",
              "        `last modified: ${\n",
              "            file.lastModifiedDate ? file.lastModifiedDate.toLocaleDateString() :\n",
              "                                    'n/a'} - `));\n",
              "    const percent = span('0% done');\n",
              "    li.appendChild(percent);\n",
              "\n",
              "    outputElement.appendChild(li);\n",
              "\n",
              "    const fileDataPromise = new Promise((resolve) => {\n",
              "      const reader = new FileReader();\n",
              "      reader.onload = (e) => {\n",
              "        resolve(e.target.result);\n",
              "      };\n",
              "      reader.readAsArrayBuffer(file);\n",
              "    });\n",
              "    // Wait for the data to be ready.\n",
              "    let fileData = yield {\n",
              "      promise: fileDataPromise,\n",
              "      response: {\n",
              "        action: 'continue',\n",
              "      }\n",
              "    };\n",
              "\n",
              "    // Use a chunked sending to avoid message size limits. See b/62115660.\n",
              "    let position = 0;\n",
              "    do {\n",
              "      const length = Math.min(fileData.byteLength - position, MAX_PAYLOAD_SIZE);\n",
              "      const chunk = new Uint8Array(fileData, position, length);\n",
              "      position += length;\n",
              "\n",
              "      const base64 = btoa(String.fromCharCode.apply(null, chunk));\n",
              "      yield {\n",
              "        response: {\n",
              "          action: 'append',\n",
              "          file: file.name,\n",
              "          data: base64,\n",
              "        },\n",
              "      };\n",
              "\n",
              "      let percentDone = fileData.byteLength === 0 ?\n",
              "          100 :\n",
              "          Math.round((position / fileData.byteLength) * 100);\n",
              "      percent.textContent = `${percentDone}% done`;\n",
              "\n",
              "    } while (position < fileData.byteLength);\n",
              "  }\n",
              "\n",
              "  // All done.\n",
              "  yield {\n",
              "    response: {\n",
              "      action: 'complete',\n",
              "    }\n",
              "  };\n",
              "}\n",
              "\n",
              "scope.google = scope.google || {};\n",
              "scope.google.colab = scope.google.colab || {};\n",
              "scope.google.colab._files = {\n",
              "  _uploadFiles,\n",
              "  _uploadFilesContinue,\n",
              "};\n",
              "})(self);\n",
              "</script> "
            ]
          },
          "metadata": {}
        },
        {
          "output_type": "stream",
          "name": "stdout",
          "text": [
            "Saving exams_large.csv to exams_large.csv\n"
          ]
        }
      ]
    },
    {
      "cell_type": "code",
      "source": [
        "dataframe_large = pandas.read_csv(io.BytesIO(uploaded['exams_large.csv']))"
      ],
      "metadata": {
        "id": "RngKPL7ZDmgO"
      },
      "execution_count": null,
      "outputs": []
    },
    {
      "cell_type": "code",
      "source": [
        "from google.colab import files\n",
        "uploaded = files.upload()"
      ],
      "metadata": {
        "colab": {
          "base_uri": "https://localhost:8080/",
          "height": 73
        },
        "id": "_fFADPt3Dmrc",
        "outputId": "766b02a6-fdb0-4c0b-c052-9a936f683396"
      },
      "execution_count": null,
      "outputs": [
        {
          "output_type": "display_data",
          "data": {
            "text/plain": [
              "<IPython.core.display.HTML object>"
            ],
            "text/html": [
              "\n",
              "     <input type=\"file\" id=\"files-96a188ff-cf81-40f6-9526-a6bbb3903322\" name=\"files[]\" multiple disabled\n",
              "        style=\"border:none\" />\n",
              "     <output id=\"result-96a188ff-cf81-40f6-9526-a6bbb3903322\">\n",
              "      Upload widget is only available when the cell has been executed in the\n",
              "      current browser session. Please rerun this cell to enable.\n",
              "      </output>\n",
              "      <script>// Copyright 2017 Google LLC\n",
              "//\n",
              "// Licensed under the Apache License, Version 2.0 (the \"License\");\n",
              "// you may not use this file except in compliance with the License.\n",
              "// You may obtain a copy of the License at\n",
              "//\n",
              "//      http://www.apache.org/licenses/LICENSE-2.0\n",
              "//\n",
              "// Unless required by applicable law or agreed to in writing, software\n",
              "// distributed under the License is distributed on an \"AS IS\" BASIS,\n",
              "// WITHOUT WARRANTIES OR CONDITIONS OF ANY KIND, either express or implied.\n",
              "// See the License for the specific language governing permissions and\n",
              "// limitations under the License.\n",
              "\n",
              "/**\n",
              " * @fileoverview Helpers for google.colab Python module.\n",
              " */\n",
              "(function(scope) {\n",
              "function span(text, styleAttributes = {}) {\n",
              "  const element = document.createElement('span');\n",
              "  element.textContent = text;\n",
              "  for (const key of Object.keys(styleAttributes)) {\n",
              "    element.style[key] = styleAttributes[key];\n",
              "  }\n",
              "  return element;\n",
              "}\n",
              "\n",
              "// Max number of bytes which will be uploaded at a time.\n",
              "const MAX_PAYLOAD_SIZE = 100 * 1024;\n",
              "\n",
              "function _uploadFiles(inputId, outputId) {\n",
              "  const steps = uploadFilesStep(inputId, outputId);\n",
              "  const outputElement = document.getElementById(outputId);\n",
              "  // Cache steps on the outputElement to make it available for the next call\n",
              "  // to uploadFilesContinue from Python.\n",
              "  outputElement.steps = steps;\n",
              "\n",
              "  return _uploadFilesContinue(outputId);\n",
              "}\n",
              "\n",
              "// This is roughly an async generator (not supported in the browser yet),\n",
              "// where there are multiple asynchronous steps and the Python side is going\n",
              "// to poll for completion of each step.\n",
              "// This uses a Promise to block the python side on completion of each step,\n",
              "// then passes the result of the previous step as the input to the next step.\n",
              "function _uploadFilesContinue(outputId) {\n",
              "  const outputElement = document.getElementById(outputId);\n",
              "  const steps = outputElement.steps;\n",
              "\n",
              "  const next = steps.next(outputElement.lastPromiseValue);\n",
              "  return Promise.resolve(next.value.promise).then((value) => {\n",
              "    // Cache the last promise value to make it available to the next\n",
              "    // step of the generator.\n",
              "    outputElement.lastPromiseValue = value;\n",
              "    return next.value.response;\n",
              "  });\n",
              "}\n",
              "\n",
              "/**\n",
              " * Generator function which is called between each async step of the upload\n",
              " * process.\n",
              " * @param {string} inputId Element ID of the input file picker element.\n",
              " * @param {string} outputId Element ID of the output display.\n",
              " * @return {!Iterable<!Object>} Iterable of next steps.\n",
              " */\n",
              "function* uploadFilesStep(inputId, outputId) {\n",
              "  const inputElement = document.getElementById(inputId);\n",
              "  inputElement.disabled = false;\n",
              "\n",
              "  const outputElement = document.getElementById(outputId);\n",
              "  outputElement.innerHTML = '';\n",
              "\n",
              "  const pickedPromise = new Promise((resolve) => {\n",
              "    inputElement.addEventListener('change', (e) => {\n",
              "      resolve(e.target.files);\n",
              "    });\n",
              "  });\n",
              "\n",
              "  const cancel = document.createElement('button');\n",
              "  inputElement.parentElement.appendChild(cancel);\n",
              "  cancel.textContent = 'Cancel upload';\n",
              "  const cancelPromise = new Promise((resolve) => {\n",
              "    cancel.onclick = () => {\n",
              "      resolve(null);\n",
              "    };\n",
              "  });\n",
              "\n",
              "  // Wait for the user to pick the files.\n",
              "  const files = yield {\n",
              "    promise: Promise.race([pickedPromise, cancelPromise]),\n",
              "    response: {\n",
              "      action: 'starting',\n",
              "    }\n",
              "  };\n",
              "\n",
              "  cancel.remove();\n",
              "\n",
              "  // Disable the input element since further picks are not allowed.\n",
              "  inputElement.disabled = true;\n",
              "\n",
              "  if (!files) {\n",
              "    return {\n",
              "      response: {\n",
              "        action: 'complete',\n",
              "      }\n",
              "    };\n",
              "  }\n",
              "\n",
              "  for (const file of files) {\n",
              "    const li = document.createElement('li');\n",
              "    li.append(span(file.name, {fontWeight: 'bold'}));\n",
              "    li.append(span(\n",
              "        `(${file.type || 'n/a'}) - ${file.size} bytes, ` +\n",
              "        `last modified: ${\n",
              "            file.lastModifiedDate ? file.lastModifiedDate.toLocaleDateString() :\n",
              "                                    'n/a'} - `));\n",
              "    const percent = span('0% done');\n",
              "    li.appendChild(percent);\n",
              "\n",
              "    outputElement.appendChild(li);\n",
              "\n",
              "    const fileDataPromise = new Promise((resolve) => {\n",
              "      const reader = new FileReader();\n",
              "      reader.onload = (e) => {\n",
              "        resolve(e.target.result);\n",
              "      };\n",
              "      reader.readAsArrayBuffer(file);\n",
              "    });\n",
              "    // Wait for the data to be ready.\n",
              "    let fileData = yield {\n",
              "      promise: fileDataPromise,\n",
              "      response: {\n",
              "        action: 'continue',\n",
              "      }\n",
              "    };\n",
              "\n",
              "    // Use a chunked sending to avoid message size limits. See b/62115660.\n",
              "    let position = 0;\n",
              "    do {\n",
              "      const length = Math.min(fileData.byteLength - position, MAX_PAYLOAD_SIZE);\n",
              "      const chunk = new Uint8Array(fileData, position, length);\n",
              "      position += length;\n",
              "\n",
              "      const base64 = btoa(String.fromCharCode.apply(null, chunk));\n",
              "      yield {\n",
              "        response: {\n",
              "          action: 'append',\n",
              "          file: file.name,\n",
              "          data: base64,\n",
              "        },\n",
              "      };\n",
              "\n",
              "      let percentDone = fileData.byteLength === 0 ?\n",
              "          100 :\n",
              "          Math.round((position / fileData.byteLength) * 100);\n",
              "      percent.textContent = `${percentDone}% done`;\n",
              "\n",
              "    } while (position < fileData.byteLength);\n",
              "  }\n",
              "\n",
              "  // All done.\n",
              "  yield {\n",
              "    response: {\n",
              "      action: 'complete',\n",
              "    }\n",
              "  };\n",
              "}\n",
              "\n",
              "scope.google = scope.google || {};\n",
              "scope.google.colab = scope.google.colab || {};\n",
              "scope.google.colab._files = {\n",
              "  _uploadFiles,\n",
              "  _uploadFilesContinue,\n",
              "};\n",
              "})(self);\n",
              "</script> "
            ]
          },
          "metadata": {}
        },
        {
          "output_type": "stream",
          "name": "stdout",
          "text": [
            "Saving exams_medium.csv to exams_medium (1).csv\n"
          ]
        }
      ]
    },
    {
      "cell_type": "code",
      "source": [
        "\n",
        "dataframe_medium = pandas.read_csv(io.BytesIO(uploaded['exams_medium.csv']))"
      ],
      "metadata": {
        "id": "RRGtZXBdDm0j"
      },
      "execution_count": null,
      "outputs": []
    },
    {
      "cell_type": "markdown",
      "source": [
        "# Elaboration"
      ],
      "metadata": {
        "id": "mCabb1JDfN5Z"
      }
    },
    {
      "cell_type": "markdown",
      "source": [
        "## **PART 1**"
      ],
      "metadata": {
        "id": "C5yyYJERYPti"
      }
    },
    {
      "cell_type": "markdown",
      "source": [
        "### 1.1 Rezultati testa u ovisnosti o spolu učenika (Esma)"
      ],
      "metadata": {
        "id": "Ngk8sZ2fXW3b"
      }
    },
    {
      "cell_type": "markdown",
      "source": [
        "Prvi dio ove statističke analize će se baviti odnosom rezultata testova i spola učenika. Kako navedene rezultate posmatramo jednodimenzionalno, odnosno odvojeno za učenike oba spola, isti će biti predstavljeni boxplot-ovima.\n",
        "\n",
        "**Spolna struktura uzorka:**\n",
        "\n",
        "Kao što možemo primijetiti na sljedećem histogramu, broj učenika ženskog i muškog spola u uzorku je približno jednak."
      ],
      "metadata": {
        "id": "cjia8okKuaDe"
      }
    },
    {
      "cell_type": "code",
      "source": [
        "gender = dataframe_large['gender']\n",
        "\n",
        "plot.figure(figsize = (4, 4))\n",
        "n, gender_hist, patches = plot.hist(gender, bins = 2)\n",
        "patches[0].set_fc(\"#210c99\")\n",
        "patches[1].set_fc(\"#c9e610\")\n",
        "plot.title('Odnos broja studenata ženskog i muškog spola')\n",
        "plot.show()"
      ],
      "metadata": {
        "colab": {
          "base_uri": "https://localhost:8080/",
          "height": 281
        },
        "id": "93slU7gFtDJo",
        "outputId": "e0843f6d-9125-42d8-f09d-af2d3599483b"
      },
      "execution_count": null,
      "outputs": [
        {
          "output_type": "display_data",
          "data": {
            "text/plain": [
              "<Figure size 288x288 with 1 Axes>"
            ],
            "image/png": "[encoded data removed]"
          },
          "metadata": {
            "needs_background": "light"
          }
        }
      ]
    },
    {
      "cell_type": "markdown",
      "source": [
        "**Rezultati testa iz matematike:**"
      ],
      "metadata": {
        "id": "MhPr8DhQvGZB"
      }
    },
    {
      "cell_type": "code",
      "source": [
        "math = dataframe_large['math score']\n",
        "math_female = arr.array('i')\n",
        "math_male = arr.array('i')\n",
        "\n",
        "for i in range(len(gender)) :\n",
        "  if gender[i] == \"female\" : math_female.append(math[i])\n",
        "  else : math_male.append(math[i])\n",
        "\n",
        "ticks = [0, 10, 20, 30, 40, 50, 60, 70, 80, 90, 100]\n",
        "\n",
        "data = list([math_female, math_male])\n",
        "fig, ax = plot.subplots()\n",
        "ax.boxplot(data)\n",
        "ax.yaxis.grid(True)\n",
        "plot.title('Boxplot rezultata na testu iz matematike')\n",
        "plot.ylim(0, 110)\n",
        "plot.yticks(ticks)\n",
        "plot.xticks([1, 2], ['female', 'male'])\n",
        "plot.show()\n",
        "\n",
        "print(\"\\n                 | Medijan | Srednja vrijednost \")\n",
        "print(\"-----------------------------------------------\")\n",
        "median_f = statistics.median(math_female)\n",
        "mean_f = statistics.mean(math_female)\n",
        "median_m = statistics.median(math_male)\n",
        "mean_m = statistics.mean(math_male)\n",
        "mode_m = statistics.mode(math_male)\n",
        "print(\"Učenice (female)\", \"|  \", median_f, \"   |      \", round(mean_f, 2))\n",
        "print(\"Učenici (male)\", \"  |  \", median_m, \"   |      \", round(mean_m, 2))"
      ],
      "metadata": {
        "colab": {
          "base_uri": "https://localhost:8080/",
          "height": 372
        },
        "id": "dScRz09pusqb",
        "outputId": "66c8386d-3070-4967-f8b5-714823b8c1a6"
      },
      "execution_count": null,
      "outputs": [
        {
          "output_type": "display_data",
          "data": {
            "text/plain": [
              "<Figure size 432x288 with 1 Axes>"
            ],
            "image/png": "[encoded data removed]"
          },
          "metadata": {
            "needs_background": "light"
          }
        },
        {
          "output_type": "stream",
          "name": "stdout",
          "text": [
            "\n",
            "                 | Medijan | Srednja vrijednost \n",
            "-----------------------------------------------\n",
            "Učenice (female) |   64    |       63.99\n",
            "Učenici (male)   |   69    |       69.65\n"
          ]
        }
      ]
    },
    {
      "cell_type": "markdown",
      "source": [
        "**Rezultati testa čitanja:**"
      ],
      "metadata": {
        "id": "l0np1xLzv2Fp"
      }
    },
    {
      "cell_type": "code",
      "source": [
        "read = dataframe_large['reading score']\n",
        "read_female = arr.array('i')\n",
        "read_male = arr.array('i')\n",
        "\n",
        "for i in range(len(gender)) :\n",
        "  if gender[i] == \"female\" : read_female.append(read[i])\n",
        "  else : read_male.append(read[i])\n",
        "\n",
        "data = list([read_female, read_male])\n",
        "fig, ax = plot.subplots()\n",
        "ax.boxplot(data)\n",
        "ax.yaxis.grid(True)\n",
        "plot.title('Boxplot rezultata na testu čitanja')\n",
        "plot.ylim(0, 110)\n",
        "plot.yticks(ticks)\n",
        "plot.xticks([1, 2], ['female', 'male'])\n",
        "plot.show()\n",
        "\n",
        "print(\"\\n                 | Medijan | Srednja vrijednost \")\n",
        "print(\"-----------------------------------------------\")\n",
        "median_f = statistics.median(read_female)\n",
        "mean_f = statistics.mean(read_female)\n",
        "median_m = statistics.median(read_male)\n",
        "mean_m = statistics.mean(read_male)\n",
        "print(\"Učenice (female)\", \"|  \", median_f, \"   |      \", round(mean_f, 2))\n",
        "print(\"Učenici (male)\", \"  |  \", median_m, \"   |      \", round(mean_m, 2))"
      ],
      "metadata": {
        "colab": {
          "base_uri": "https://localhost:8080/",
          "height": 372
        },
        "id": "jsLaYqhKv5HH",
        "outputId": "a2f10922-28f4-4afa-db4a-3255f4e4c47a"
      },
      "execution_count": null,
      "outputs": [
        {
          "output_type": "display_data",
          "data": {
            "text/plain": [
              "<Figure size 432x288 with 1 Axes>"
            ],
            "image/png": "[encoded data removed]"
          },
          "metadata": {
            "needs_background": "light"
          }
        },
        {
          "output_type": "stream",
          "name": "stdout",
          "text": [
            "\n",
            "                 | Medijan | Srednja vrijednost \n",
            "-----------------------------------------------\n",
            "Učenice (female) |   73    |       72.38\n",
            "Učenici (male)   |   67    |       67.02\n"
          ]
        }
      ]
    },
    {
      "cell_type": "markdown",
      "source": [
        "**Rezultati testa pisanja:**"
      ],
      "metadata": {
        "id": "HEUyI4kqwyIm"
      }
    },
    {
      "cell_type": "code",
      "source": [
        "write = dataframe_large['writing score']\n",
        "write_female = arr.array('i')\n",
        "write_male = arr.array('i')\n",
        "\n",
        "for i in range(len(gender)) :\n",
        "  if gender[i] == \"female\" : write_female.append(write[i])\n",
        "  else : write_male.append(write[i])\n",
        "\n",
        "data = list([write_female, write_male])\n",
        "fig, ax = plot.subplots()\n",
        "ax.boxplot(data)\n",
        "ax.yaxis.grid(True)\n",
        "plot.title('Boxplot rezultata na testu pisanja')\n",
        "plot.ylim(0, 110)\n",
        "plot.yticks(ticks)\n",
        "plot.xticks([1, 2], ['female', 'male'])\n",
        "plot.show()\n",
        "\n",
        "print(\"\\n                 | Medijan | Srednja vrijednost \")\n",
        "print(\"-----------------------------------------------\")\n",
        "median_f = statistics.median(write_female)\n",
        "mean_f = statistics.mean(write_female)\n",
        "median_m = statistics.median(write_male)\n",
        "mean_m = statistics.mean(write_male)\n",
        "print(\"Učenice (female)\", \"|  \", median_f, \"   |      \", round(mean_f, 2))\n",
        "print(\"Učenici (male)\", \"  |  \", median_m, \"   |      \", round(mean_m, 2))"
      ],
      "metadata": {
        "colab": {
          "base_uri": "https://localhost:8080/",
          "height": 372
        },
        "id": "5-3o8BwewllO",
        "outputId": "be45b1ae-6998-4bc2-c921-b5a20d0e30cc"
      },
      "execution_count": null,
      "outputs": [
        {
          "output_type": "display_data",
          "data": {
            "text/plain": [
              "<Figure size 432x288 with 1 Axes>"
            ],
            "image/png": "[encoded data removed]"
          },
          "metadata": {
            "needs_background": "light"
          }
        },
        {
          "output_type": "stream",
          "name": "stdout",
          "text": [
            "\n",
            "                 | Medijan | Srednja vrijednost \n",
            "-----------------------------------------------\n",
            "Učenice (female) |   72    |       72.41\n",
            "Učenici (male)   |   65    |       64.59\n"
          ]
        }
      ]
    },
    {
      "cell_type": "markdown",
      "source": [
        "Iz navedenoga možemo zaključiti sljedeće:\n",
        "\n",
        "- Na testu iz matematike su učenici bili uspješniji nego učenice, što možemo primjetiti iz oblika samih boxplot-ova. U slučaju učenika (male), čitava raspodjela generalno naginje većim vrijednostima. Medijan rezultata učenica (female) je pak nešto manji.\n",
        "- Kada su u pitanju rezultati na testu čitanja, situacija je skoro pa obrnuta u odnosu na matematiku. \n",
        "- Razlike u rezultatima između učenica i učenika su najviše primjetne na posljednjem grafiku za test pisanja, gdje je ujedno i najveća razlika između medijana ova dva grafika. Uočava se osjetna razlika između položaja female i male boxplot-a (viši minimum i medijan).\n",
        "\n",
        "Dakle, iako su učenici bili uspješniji u matematici, to nije slučaj za testove čitanja i pisanja.\n",
        "\n",
        "Ono što je zajedničko za sva tri prikaza rezultata pomoću boxplot-ova je da su maksimumi približno jednaki (cca 100, što je svakako posljedica činjenice da su podaci rezultati školskih testova sa maksimalno 100 mogućih bodova), kao i veći broj outlier-a ispod minimuma na prikazima uspjeha učenika (male), što svakako direktno utječe na vrijednosti medijana i srednje vrijednosti. No ipak, u svakom od tri slučaja su vrijednosti medijana i srednje vrijednosti skoro pa jednake, dakle nema prevelikih odstupanja."
      ],
      "metadata": {
        "id": "-a_557bdBIt-"
      }
    },
    {
      "cell_type": "markdown",
      "source": [
        "### 1.2 Matematika u odnosu na čitanje i pisanje (Kanita)"
      ],
      "metadata": {
        "id": "zNz9csdYXV_E"
      }
    },
    {
      "cell_type": "markdown",
      "source": [
        "U ovom dijelu izlaganja želimo ispitati da li postoji korelacija između varijabli koje predstavljaju rezultate testa iz matematike, čitanja i pisanja, i to na način: \n",
        "\n",
        "\n",
        "*   rezultati testa iz matematike u odnosu na rezultate testa iz čitanja\n",
        "*   rezultati testa iz matematike u odnosu na rezultate testa iz pisanja\n",
        "\n"
      ],
      "metadata": {
        "id": "8eEhaOrnaky0"
      }
    },
    {
      "cell_type": "markdown",
      "source": [
        "Ipak, prije nego što uspostavimo relaciju između više varijabli, razmotrit ćemo distribuciju pojedinačnih varijabli i to koristeći *distplot*-ove na osnovu kojih možemo izvesti (očekivan) zaključak, a koji se odnosi na normalnu distribuciju sve tri posmatrane varijable, poznatu kao Gaussova raspodjela - što \"dokazujemo\" prikazom srednje vrijednosti, mode i mediane. "
      ],
      "metadata": {
        "id": "O2mNV8PZQiyJ"
      }
    },
    {
      "cell_type": "markdown",
      "source": [
        "**distplot - rezultati iz matematike**"
      ],
      "metadata": {
        "id": "XoLCEntEQOTg"
      }
    },
    {
      "cell_type": "code",
      "source": [
        "math = dataframe_medium['math score']\n",
        "\n",
        "seaborn.displot(math, color = 'orange')\n",
        "plot.show()"
      ],
      "metadata": {
        "colab": {
          "base_uri": "https://localhost:8080/",
          "height": 369
        },
        "id": "DNmqG9G6QOon",
        "outputId": "e26ad5ef-f866-47db-a7cf-909cddbd4383"
      },
      "execution_count": 35,
      "outputs": [
        {
          "output_type": "display_data",
          "data": {
            "text/plain": [
              "<Figure size 360x360 with 1 Axes>"
            ],
            "image/png": "[encoded data removed]"
          },
          "metadata": {
            "needs_background": "light"
          }
        }
      ]
    },
    {
      "cell_type": "code",
      "source": [
        "srednja_vrijednost = statistics.mean(math)\n",
        "print(\"Srednja vrijednost rezultata testa iz matematike: \", srednja_vrijednost)\n",
        "\n",
        "moda = statistics.mode(math)\n",
        "print(\"Moda rezultata testa iz matematike: \", moda)\n",
        "\n",
        "mediana = statistics.median(math)\n",
        "print(\"Mediana rezultata testa iz matematike: \", mediana)"
      ],
      "metadata": {
        "colab": {
          "base_uri": "https://localhost:8080/"
        },
        "id": "Ekq3nHtJYsRK",
        "outputId": "7536a764-d1ba-4dfc-dee7-0deedc1662d5"
      },
      "execution_count": 39,
      "outputs": [
        {
          "output_type": "stream",
          "name": "stdout",
          "text": [
            "Srednja vrijednost rezultata testa iz matematike:  68.74\n",
            "Moda rezultata testa iz matematike:  71\n",
            "Mediana rezultata testa iz matematike:  69.5\n"
          ]
        }
      ]
    },
    {
      "cell_type": "markdown",
      "source": [
        "**distplot - rezultati iz čitanja**"
      ],
      "metadata": {
        "id": "cRJAlGGAPuG2"
      }
    },
    {
      "cell_type": "code",
      "source": [
        "reading = dataframe_medium['reading score']\n",
        "\n",
        "seaborn.displot(reading, color = 'orange')\n",
        "plot.show()"
      ],
      "metadata": {
        "colab": {
          "base_uri": "https://localhost:8080/",
          "height": 369
        },
        "id": "gi3nD2IUMMy1",
        "outputId": "da7a1404-8734-4e0a-e5bd-a86975e3cd38"
      },
      "execution_count": null,
      "outputs": [
        {
          "output_type": "display_data",
          "data": {
            "text/plain": [
              "<Figure size 360x360 with 1 Axes>"
            ],
            "image/png": "[encoded data removed]"
          },
          "metadata": {
            "needs_background": "light"
          }
        }
      ]
    },
    {
      "cell_type": "code",
      "source": [
        "srednja_vrijednost = statistics.mean(reading)\n",
        "print(\"Srednja vrijednost rezultata testa iz čitanja: \", srednja_vrijednost)\n",
        "\n",
        "moda = statistics.mode(reading)\n",
        "print(\"Moda rezultata testa iz čitanja: \", moda)\n",
        "\n",
        "mediana = statistics.median(reading)\n",
        "print(\"Mediana rezultata testa iz čitanja: \", mediana)"
      ],
      "metadata": {
        "colab": {
          "base_uri": "https://localhost:8080/"
        },
        "id": "AliWX7bCYvpS",
        "outputId": "a6c2267a-2541-461c-b0e7-dcbdabfca6f4"
      },
      "execution_count": 40,
      "outputs": [
        {
          "output_type": "stream",
          "name": "stdout",
          "text": [
            "Srednja vrijednost rezultata testa iz čitanja:  70.41\n",
            "Moda rezultata testa iz čitanja:  73\n",
            "Mediana rezultata testa iz čitanja:  71.0\n"
          ]
        }
      ]
    },
    {
      "cell_type": "markdown",
      "source": [
        "**distplot - rezultati iz pisanja**"
      ],
      "metadata": {
        "id": "Hyv0QN0nP-DO"
      }
    },
    {
      "cell_type": "code",
      "source": [
        "writing = dataframe_medium['writing score']\n",
        "\n",
        "seaborn.displot(writing, color = 'orange')\n",
        "plot.show()"
      ],
      "metadata": {
        "colab": {
          "base_uri": "https://localhost:8080/",
          "height": 369
        },
        "id": "2gP9Tky0P-n5",
        "outputId": "0c2e28bd-cfce-4568-de66-03ea7b595b24"
      },
      "execution_count": null,
      "outputs": [
        {
          "output_type": "display_data",
          "data": {
            "text/plain": [
              "<Figure size 360x360 with 1 Axes>"
            ],
            "image/png": "[encoded data removed]"
          },
          "metadata": {
            "needs_background": "light"
          }
        }
      ]
    },
    {
      "cell_type": "code",
      "source": [
        "srednja_vrijednost = statistics.mean(writing)\n",
        "print(\"Srednja vrijednost rezultata testa iz pisanja: \", srednja_vrijednost)\n",
        "\n",
        "moda = statistics.mode(writing)\n",
        "print(\"Moda rezultata testa iz pisanja: \", moda)\n",
        "\n",
        "mediana = statistics.median(writing)\n",
        "print(\"Mediana rezultata testa iz pisanja: \", mediana)"
      ],
      "metadata": {
        "colab": {
          "base_uri": "https://localhost:8080/"
        },
        "id": "Cb1Zsz_SY3m6",
        "outputId": "45f79e73-e019-48fd-96b0-28afd1ac9903"
      },
      "execution_count": 41,
      "outputs": [
        {
          "output_type": "stream",
          "name": "stdout",
          "text": [
            "Srednja vrijednost rezultata testa iz pisanja:  69.36\n",
            "Moda rezultata testa iz pisanja:  66\n",
            "Mediana rezultata testa iz pisanja:  70.0\n"
          ]
        }
      ]
    },
    {
      "cell_type": "markdown",
      "source": [
        "Kratak osvrt - posmatranjem vrijednosti rezultata testova (x-osa) možemo primijetiti sličnosti u distribuciji pojedinih varijabli, dok se posebno ističe podudarnost u slučaju varijabli rezultata iz čitanja i pisanja. "
      ],
      "metadata": {
        "id": "TvmnVuYZV0zE"
      }
    },
    {
      "cell_type": "markdown",
      "source": [
        "Vođeni intuitivno, iskustvom ili dosadašnjim istraživanjima, jasno nam je da korelacija između posmatranih varijabli postoji, te da su one međusobno direktno proporcionalne, što ćemo u nastavku pokazati koristeći *scatterplot*. "
      ],
      "metadata": {
        "id": "ERCLNVDf9gJ7"
      }
    },
    {
      "cell_type": "markdown",
      "source": [
        "**scatter plot - matematika u odnosu na čitanje**"
      ],
      "metadata": {
        "id": "S8Aw95wHEziG"
      }
    },
    {
      "cell_type": "code",
      "source": [
        "reading = dataframe_medium['reading score']\n",
        "math = dataframe_medium['math score']\n",
        " \n",
        "plot.scatter(reading, math, color = 'orange')\n",
        "plot.xlabel('reading score')\n",
        "plot.ylabel('math score')\n",
        "plot.show()"
      ],
      "metadata": {
        "id": "B41mQ5y7XV_E",
        "colab": {
          "base_uri": "https://localhost:8080/",
          "height": 279
        },
        "outputId": "6b394407-8d3c-48a1-f3d8-09243e17c7d3"
      },
      "execution_count": null,
      "outputs": [
        {
          "output_type": "display_data",
          "data": {
            "text/plain": [
              "<Figure size 432x288 with 1 Axes>"
            ],
            "image/png": "[encoded data removed]"
          },
          "metadata": {
            "needs_background": "light"
          }
        }
      ]
    },
    {
      "cell_type": "markdown",
      "source": [
        "**scatter plot - matematika u odnosu na pisanje**"
      ],
      "metadata": {
        "id": "CcsQ1POIFI2f"
      }
    },
    {
      "cell_type": "code",
      "source": [
        "writing = dataframe_medium['writing score']\n",
        "math = dataframe_medium['math score']\n",
        " \n",
        "plot.scatter(writing, math, color = 'orange')\n",
        "plot.xlabel('writing score')\n",
        "plot.ylabel('math score')\n",
        "plot.show()"
      ],
      "metadata": {
        "colab": {
          "base_uri": "https://localhost:8080/",
          "height": 279
        },
        "id": "TAiwsEStEky9",
        "outputId": "f61c6f11-892a-4838-a45b-e81804ece7e6"
      },
      "execution_count": null,
      "outputs": [
        {
          "output_type": "display_data",
          "data": {
            "text/plain": [
              "<Figure size 432x288 with 1 Axes>"
            ],
            "image/png": "[encoded data removed]"
          },
          "metadata": {
            "needs_background": "light"
          }
        }
      ]
    },
    {
      "cell_type": "markdown",
      "source": [
        "Iz predstavljenog je sasvim jasno da su zavisnosti linearne, te da su sve tri varijable usko povezane. Međutim, kako bismo još više istakli poentu, u nastavku će biti prikazan graf čiji je stepen korelacije još veći, što možemo konstatovati na osnovu tačaka koje su još bliže pratećoj pravoj. "
      ],
      "metadata": {
        "id": "8AhNBezcGMR2"
      }
    },
    {
      "cell_type": "markdown",
      "source": [
        "**scatter plot - pisanje u odnosu na čitanje**"
      ],
      "metadata": {
        "id": "zpw71dBkGfe9"
      }
    },
    {
      "cell_type": "code",
      "source": [
        "reading = dataframe_medium['reading score']\n",
        "writing = dataframe_medium['writing score']\n",
        " \n",
        "plot.scatter(reading, writing, color = 'orange')\n",
        "plot.xlabel('reading score')\n",
        "plot.ylabel('writing score')\n",
        "plot.show()"
      ],
      "metadata": {
        "colab": {
          "base_uri": "https://localhost:8080/",
          "height": 279
        },
        "id": "CQMb6yhLGkAh",
        "outputId": "00e494c1-1a54-4847-b81e-96d990550a6b"
      },
      "execution_count": null,
      "outputs": [
        {
          "output_type": "display_data",
          "data": {
            "text/plain": [
              "<Figure size 432x288 with 1 Axes>"
            ],
            "image/png": "[encoded data removed]"
          },
          "metadata": {
            "needs_background": "light"
          }
        }
      ]
    },
    {
      "cell_type": "markdown",
      "source": [
        "Možemo reći da su rezultati u skladu s očekivanjima!"
      ],
      "metadata": {
        "id": "G1Tb04ZhXLRr"
      }
    },
    {
      "cell_type": "markdown",
      "source": [
        "###PART 1 - zaključak"
      ],
      "metadata": {
        "id": "nW7GSES4ZaVI"
      }
    },
    {
      "cell_type": "code",
      "source": [
        "all_female = arr.array('i')\n",
        "all_male = arr.array('i')\n",
        "\n",
        "for i in range(len(math_female)) :\n",
        "  all_female.append(math_female[i] + read_female[i] + write_female[i])\n",
        "\n",
        "for i in range(len(math_male)) :\n",
        "  all_male.append(math_male[i] + read_male[i] + write_male[i])\n",
        "\n",
        "ticks = [0, 50, 100, 150, 200, 250, 300]\n",
        "\n",
        "data = list([all_female, all_male])\n",
        "fig, ax = plot.subplots()\n",
        "ax.boxplot(data)\n",
        "ax.yaxis.grid(True)\n",
        "plot.title('Boxplot ukupnih rezultata na testovima')\n",
        "plot.ylim(0, 310)\n",
        "plot.yticks(ticks)\n",
        "plot.xticks([1, 2], ['female', 'male'])\n",
        "plot.show()"
      ],
      "metadata": {
        "colab": {
          "base_uri": "https://localhost:8080/",
          "height": 281
        },
        "id": "RmPUgMulGu-6",
        "outputId": "085635a9-9a2f-4542-cb51-c55901fa20cf"
      },
      "execution_count": null,
      "outputs": [
        {
          "output_type": "display_data",
          "data": {
            "text/plain": [
              "<Figure size 432x288 with 1 Axes>"
            ],
            "image/png": "[encoded data removed]"
          },
          "metadata": {
            "needs_background": "light"
          }
        }
      ]
    },
    {
      "cell_type": "markdown",
      "source": [
        "## **PART 2**"
      ],
      "metadata": {
        "id": "afAe0lHSgEnM"
      }
    },
    {
      "cell_type": "markdown",
      "source": [
        "Description, expectations and conclusion of PART 2"
      ],
      "metadata": {
        "id": "0MVNvKYAgEnV"
      }
    },
    {
      "cell_type": "markdown",
      "source": [
        "### 2.1 Veza između doplatka na užinu i rezultata na testovima  (Faruk)"
      ],
      "metadata": {
        "id": "962-S96cgEnV"
      }
    },
    {
      "cell_type": "markdown",
      "source": [
        "U ovom dijelu izlaganja cilj je pronaći vezu između socijalnog statusa učenika i njegovih rezultata u školi. Naša pretpostavka je da učenici iz siromašnijih porodica imaju lošije rezultate u školi. U ovom posmatranju će nam pomoći varijable razmatrane u našem uzorku. Naša pretpostavka je da \"lunch\" varijabla može biti snažan indikator socijalnog stanja učenika, te da pomoću nje možemo, nakon što uradimo adekvatnu obradu uzorka, izvesti zaključak o našoj hipotezi.\n",
        "\n",
        "S obzirom da \"lunch\" predstavlja diskretnu (kategoričnu) varijablu najedekvatnije je vizuelizaciju realizovati preko bar-plotova.\n",
        "\n",
        "Posmatranja ćemo izvesti kroz tri vizualizacije putem bar plotova:\n",
        "\n",
        "\n",
        "1.   Rezultati iz matematike učenika u odnosu na doplatak na užinu.\n",
        "2.   Rezultati iz čitanja učenika u odnosu na doplatak na užinu.\n",
        "3.   Rezultati iz pisanja učenika u odnosu na doplatak na užinu.\n",
        "\n",
        "\n",
        "\n"
      ],
      "metadata": {
        "id": "bfeX-J7vgEnV"
      }
    },
    {
      "cell_type": "markdown",
      "source": [
        "**Bar plot - Rezultati iz matematike učenika u odnosu na doplatak na užinu (\"lunch\").**"
      ],
      "metadata": {
        "id": "vwHOoJrHJycc"
      }
    },
    {
      "cell_type": "code",
      "source": [
        "# Veza izmedju doplatka na uzinu i rezultata iz matematike ucenika\n",
        "lunch = dataframe_medium['lunch']\n",
        "mathScore = dataframe_large['math score']\n",
        "\n",
        "plot.bar(lunch, mathScore)\n",
        "plot.xlabel('Plaćanje užine')\n",
        "plot.ylabel('Rezultati iz matematike')\n",
        "plot.show()"
      ],
      "metadata": {
        "id": "kHTzimVDgEnV",
        "colab": {
          "base_uri": "https://localhost:8080/",
          "height": 280
        },
        "outputId": "466c63a0-ae7f-4973-d01c-65d910870814"
      },
      "execution_count": null,
      "outputs": [
        {
          "output_type": "display_data",
          "data": {
            "text/plain": [
              "<Figure size 432x288 with 1 Axes>"
            ],
            "image/png": "[encoded data removed]"
          },
          "metadata": {
            "needs_background": "light"
          }
        }
      ]
    },
    {
      "cell_type": "markdown",
      "source": [
        "**Bar plot - Rezultati iz čitanja učenika u odnosu na doplatak na užinu (\"lunch\").**"
      ],
      "metadata": {
        "id": "nNfW7KupLW7N"
      }
    },
    {
      "cell_type": "code",
      "source": [
        "# Veza izmedju doplatka na uzinu i rezultata iz citanja ucenika\n",
        "lunch = dataframe_medium['lunch']\n",
        "readingScore = dataframe_large['reading score']\n",
        "\n",
        "plot.bar(lunch, readingScore)\n",
        "plot.xlabel('Plaćanje užine')\n",
        "plot.ylabel('Rezultati iz čitanja')\n",
        "plot.show()"
      ],
      "metadata": {
        "colab": {
          "base_uri": "https://localhost:8080/",
          "height": 280
        },
        "id": "lUYPryfdLhqk",
        "outputId": "0d220365-ace3-4cba-8b01-d5f820f03ee2"
      },
      "execution_count": null,
      "outputs": [
        {
          "output_type": "display_data",
          "data": {
            "text/plain": [
              "<Figure size 432x288 with 1 Axes>"
            ],
            "image/png": "[encoded data removed]"
          },
          "metadata": {
            "needs_background": "light"
          }
        }
      ]
    },
    {
      "cell_type": "markdown",
      "source": [
        "**Bar plot - Rezultati iz čitanja učenika u odnosu na doplatak na užinu (\"lunch\").**"
      ],
      "metadata": {
        "id": "aGBT0Rv0Lxk_"
      }
    },
    {
      "cell_type": "code",
      "source": [
        "# Veza izmedju doplatka na uzinu i rezultata iz pisanja ucenika\n",
        "lunch = dataframe_medium['lunch']\n",
        "writingScore = dataframe_large['writing score']\n",
        "\n",
        "plot.bar(lunch, writingScore)\n",
        "plot.xlabel('Plaćanje užine')\n",
        "plot.ylabel('Rezultati iz pisanja')\n",
        "plot.show()"
      ],
      "metadata": {
        "colab": {
          "base_uri": "https://localhost:8080/",
          "height": 280
        },
        "id": "7QTmyAvBL_8b",
        "outputId": "ad9726ea-8df8-45e9-8b0d-5bc798f7252a"
      },
      "execution_count": null,
      "outputs": [
        {
          "output_type": "display_data",
          "data": {
            "text/plain": [
              "<Figure size 432x288 with 1 Axes>"
            ],
            "image/png": "[encoded data removed]"
          },
          "metadata": {
            "needs_background": "light"
          }
        }
      ]
    },
    {
      "cell_type": "markdown",
      "source": [
        "Iz gore izvršenih posmatranja možemo zaključiti da postoji veza između doplatka na užinu i rezultata učenika. Naime, učenici koji ne dobijaju doplatak na užinu imaju bolje rezultate iz svih testova obuhvaćenih našim uzorkom. Najveća razlika je primjetna na rezultatima iz matematike, dok je nešto manja razlika u rezultatima iz čitanja i pisanja."
      ],
      "metadata": {
        "id": "1v-LU06XMMQK"
      }
    },
    {
      "cell_type": "markdown",
      "source": [
        "### Part 2.2 (Edin)"
      ],
      "metadata": {
        "id": "auH9_u03gEnW"
      }
    },
    {
      "cell_type": "markdown",
      "source": [
        "Elaboration of part 2.2"
      ],
      "metadata": {
        "id": "MxujIJzngEnW"
      }
    },
    {
      "cell_type": "code",
      "source": [],
      "metadata": {
        "id": "o1blqiJjgEnW",
        "colab": {
          "base_uri": "https://localhost:8080/",
          "height": 235
        },
        "outputId": "0f82a792-ef56-40a1-f194-301375918380"
      },
      "execution_count": null,
      "outputs": [
        {
          "output_type": "error",
          "ename": "NameError",
          "evalue": "ignored",
          "traceback": [
            "\u001b[0;31m---------------------------------------------------------------------------\u001b[0m",
            "\u001b[0;31mNameError\u001b[0m                                 Traceback (most recent call last)",
            "\u001b[0;32m<ipython-input-6-e7b3fbdbe0a0>\u001b[0m in \u001b[0;36m<module>\u001b[0;34m\u001b[0m\n\u001b[0;32m----> 1\u001b[0;31m \u001b[0mfig\u001b[0m\u001b[0;34m,\u001b[0m \u001b[0max\u001b[0m \u001b[0;34m=\u001b[0m \u001b[0mplot\u001b[0m\u001b[0;34m.\u001b[0m\u001b[0msubplots\u001b[0m\u001b[0;34m(\u001b[0m\u001b[0;36m1\u001b[0m\u001b[0;34m,\u001b[0m\u001b[0;36m2\u001b[0m\u001b[0;34m,\u001b[0m\u001b[0msharex\u001b[0m\u001b[0;34m=\u001b[0m\u001b[0;32mTrue\u001b[0m\u001b[0;34m,\u001b[0m\u001b[0mfigsize\u001b[0m\u001b[0;34m=\u001b[0m\u001b[0;34m(\u001b[0m\u001b[0;36m15\u001b[0m\u001b[0;34m,\u001b[0m\u001b[0;36m5\u001b[0m\u001b[0;34m)\u001b[0m\u001b[0;34m)\u001b[0m\u001b[0;34m\u001b[0m\u001b[0;34m\u001b[0m\u001b[0m\n\u001b[0m\u001b[1;32m      2\u001b[0m \u001b[0;34m\u001b[0m\u001b[0m\n\u001b[1;32m      3\u001b[0m \u001b[0mseaborn\u001b[0m\u001b[0;34m.\u001b[0m\u001b[0mhistplot\u001b[0m\u001b[0;34m(\u001b[0m\u001b[0mx\u001b[0m\u001b[0;34m=\u001b[0m\u001b[0mdataframe_large\u001b[0m\u001b[0;34m[\u001b[0m\u001b[0;34m'writing score'\u001b[0m\u001b[0;34m]\u001b[0m\u001b[0;34m,\u001b[0m\u001b[0mdata\u001b[0m\u001b[0;34m=\u001b[0m\u001b[0mdataframe_large\u001b[0m\u001b[0;34m,\u001b[0m \u001b[0mhue\u001b[0m\u001b[0;34m=\u001b[0m\u001b[0;34m'race/ethnicity'\u001b[0m\u001b[0;34m,\u001b[0m\u001b[0max\u001b[0m\u001b[0;34m=\u001b[0m\u001b[0max\u001b[0m\u001b[0;34m[\u001b[0m\u001b[0;36m0\u001b[0m\u001b[0;34m]\u001b[0m\u001b[0;34m,\u001b[0m\u001b[0mkde\u001b[0m\u001b[0;34m=\u001b[0m\u001b[0;32mTrue\u001b[0m\u001b[0;34m)\u001b[0m\u001b[0;34m\u001b[0m\u001b[0;34m\u001b[0m\u001b[0m\n\u001b[1;32m      4\u001b[0m \u001b[0mseaborn\u001b[0m\u001b[0;34m.\u001b[0m\u001b[0mhistplot\u001b[0m\u001b[0;34m(\u001b[0m\u001b[0mx\u001b[0m\u001b[0;34m=\u001b[0m\u001b[0mdataframe_large\u001b[0m\u001b[0;34m[\u001b[0m\u001b[0;34m'writing score'\u001b[0m\u001b[0;34m]\u001b[0m\u001b[0;34m,\u001b[0m \u001b[0mdata\u001b[0m\u001b[0;34m=\u001b[0m\u001b[0mdataframe_large\u001b[0m\u001b[0;34m,\u001b[0m \u001b[0mhue\u001b[0m \u001b[0;34m=\u001b[0m \u001b[0;34m'parental level of education'\u001b[0m\u001b[0;34m,\u001b[0m \u001b[0max\u001b[0m\u001b[0;34m=\u001b[0m\u001b[0max\u001b[0m\u001b[0;34m[\u001b[0m\u001b[0;36m1\u001b[0m\u001b[0;34m]\u001b[0m\u001b[0;34m,\u001b[0m\u001b[0mkde\u001b[0m\u001b[0;34m=\u001b[0m\u001b[0;32mTrue\u001b[0m\u001b[0;34m)\u001b[0m\u001b[0;34m\u001b[0m\u001b[0;34m\u001b[0m\u001b[0m\n\u001b[1;32m      5\u001b[0m \u001b[0;34m\u001b[0m\u001b[0m\n",
            "\u001b[0;31mNameError\u001b[0m: name 'plot' is not defined"
          ]
        }
      ]
    },
    {
      "cell_type": "markdown",
      "source": [
        "# Conclusion"
      ],
      "metadata": {
        "id": "adh85Ww8fbTn"
      }
    },
    {
      "cell_type": "markdown",
      "source": [
        "Some text"
      ],
      "metadata": {
        "id": "vF6MH-1Ffk1h"
      }
    }
  ]
}